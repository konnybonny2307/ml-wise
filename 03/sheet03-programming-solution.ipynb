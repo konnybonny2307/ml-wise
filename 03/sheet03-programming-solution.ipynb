{
 "cells": [
  {
   "cell_type": "markdown",
   "metadata": {},
   "source": [
    "<table width='100%'>\n",
    "<tr>\n",
    "<td style='background-color:white'>\n",
    "    <p align=\"left\">\n",
    "    Exercises for the course<br>\n",
    "        <b>Machine Learning for Data Science</b><br>\n",
    "    Winter Semester 2024/25\n",
    "    </p>\n",
    "</td>\n",
    "<td style='background-color:white'>\n",
    "    G. Montavon<br>\n",
    "    Institute of Computer Science<br>\n",
    "    <b>Department of Mathematics and Computer Science</b><br>\n",
    "    Freie Universität Berlin\n",
    "</td>\n",
    "</tr>\n",
    "</table>\n",
    "\n",
    "<br>\n",
    "<center>\n",
    "    <h1>Exercise Sheet 3 (programming part)</h1>\n",
    "</center>\n",
    "<br>"
   ]
  },
  {
   "cell_type": "code",
   "execution_count": 21,
   "metadata": {},
   "outputs": [],
   "source": [
    "import numpy\n",
    "import sklearn\n",
    "import sklearn.datasets\n",
    "import matplotlib\n",
    "%matplotlib inline\n",
    "from matplotlib import pyplot as plt"
   ]
  },
  {
   "cell_type": "markdown",
   "metadata": {},
   "source": [
    "In this exercise we perform a principal component analysis of the Iris dataset, a famous dataset from Fisher (1936) which one can access from sklearn. Each instance of the dataset is an iris plant which comes with four measurements (1. sepal length in cm, 2. sepal width in cm, 3. petal length in cm, 4. petal width in cm). What these measurements correspond to is depicted in the image below.\n",
    "\n",
    "![](iris_measurements.png)\n",
    "\n",
    "In addition to these measurements, the dataset also includes for each instance the type of iris plant (iris setosa, iris versicolour, iris virginica) which we treat here as metadata. Overall, the Iris dataset has 150 instances, and can be stored as an array of size 150 x 4.\n",
    "\n",
    "The following cell loads the dataset. Additionally, some logarithmic transformation of the input features is performed so that a difference between e.g. 5mm and 6mm is given roughly the same importance as a difference between 5cm and 6cm. Such log-scaling gives more focus on features measuring smaller objects, compared to an approach based on the raw measurements. Also, we add a small increment of 1mm before applying the log-transform to ignore very small quantities that cannot be precisely measured."
   ]
  },
  {
   "cell_type": "code",
   "execution_count": 22,
   "metadata": {
    "scrolled": true
   },
   "outputs": [],
   "source": [
    "dataset = sklearn.datasets.load_iris()\n",
    "\n",
    "X = numpy.log(0.1+dataset['data'])\n",
    "T = dataset['target']\n",
    "\n",
    "target_names = dataset['target_names']\n",
    "feature_names = dataset['feature_names']\n",
    "\n",
    "X = X - X.mean(axis=0)\n",
    "\n",
    "N,d = X.shape"
   ]
  },
  {
   "cell_type": "markdown",
   "metadata": {},
   "source": [
    "Note that one must keep in mind that our features have been log-transformed in any of the subsequent analyses and interpretations. A first basic analysis that can be performed is to measure how much dispersion there is in the data. The total variance of the data can be computed by the code below:"
   ]
  },
  {
   "cell_type": "code",
   "execution_count": 23,
   "metadata": {},
   "outputs": [
    {
     "name": "stdout",
     "output_type": "stream",
     "text": [
      "Total variance: 1.027\n"
     ]
    }
   ],
   "source": [
    "stot = (X**2).mean(axis=0).sum()\n",
    "print('Total variance: %.3f'%stot)"
   ]
  },
  {
   "cell_type": "markdown",
   "metadata": {},
   "source": [
    "## Exercise 3  (10 + 10 + 10 P)\n",
    "\n",
    "We now would like to shed more light into the data by performing a principal component analysis (PCA). The exercise will consist of implementing PCA and then perform various analyses based on the learned model.\n",
    "\n",
    "### Implementing PCA\n",
    "\n",
    "The simplest way of implementing PCA, is through an eigendecomposition of the data covariance matrix $\\Sigma$, followed by solving the eigenvalue equation $\\Sigma \\boldsymbol{u} = \\lambda \\boldsymbol{u}$.\n",
    "\n",
    "**Task: Implement the PCA algorithm. Your code should return a tuple consisting of (1) a vector `L` containing the $d$ eigenvalues, in decreasing order, and (2) a matrix `U` where each column contains the eigenvector associated to the eigenvalue.**\n",
    "\n",
    "Eigenvectors in this matrix should be ordered according to the eigenvalues, i.e. in a way that, for all indices $i=1\\dots d$, the column `U[:,i]` contains the eigenvector associated to the eigenvalue `L[i]`."
   ]
  },
  {
   "cell_type": "code",
   "execution_count": 24,
   "metadata": {},
   "outputs": [
    {
     "name": "stdout",
     "output_type": "stream",
     "text": [
      "Eigenvalues: [1.00021068 0.01755264 0.01300572 0.00267969]\n",
      "Eigenvectors:\n",
      " [[-0.11489579 -0.37596276 -0.35613464  0.84771403]\n",
      " [ 0.06357822 -0.91446113 -0.00630853 -0.39959837]\n",
      " [-0.56082242  0.1142948  -0.74665504 -0.33900025]\n",
      " [-0.81745641 -0.09669306  0.56181365  0.08234618]]\n"
     ]
    }
   ],
   "source": [
    "import numpy as np\n",
    "\n",
    "def PCA(X):\n",
    "    covariance_matrix = np.cov(X, rowvar=False)\n",
    "    \n",
    "    eigenvalues, eigenvectors = np.linalg.eigh(covariance_matrix)\n",
    "    sorted_indices = np.argsort(eigenvalues)[::-1] #soring in decending order\n",
    "    L = eigenvalues[sorted_indices]\n",
    "    U = eigenvectors[:, sorted_indices]\n",
    "    \n",
    "    return L, U\n",
    "\n",
    "L, U = PCA(X)\n",
    "print(\"Eigenvalues:\", L)\n",
    "print(\"Eigenvectors:\\n\", U)"
   ]
  },
  {
   "cell_type": "markdown",
   "metadata": {},
   "source": [
    "As mentioned in the lecture, PCA can be seen as a way of decomposing the total variance in the data. This decomposition of variance offered by PCA can be rendered in a PCA scree plot. (The following code further verifies that the PCA scree plot corresponds to a decomposition of the total variance, i.e. that the sum of plotted eigenvalues should be equivalent to the measured total variance.)"
   ]
  },
  {
   "cell_type": "code",
   "execution_count": 25,
   "metadata": {},
   "outputs": [
    {
     "data": {
      "image/png": "[encoded data removed]",
      "text/plain": [
       "<Figure size 400x200 with 1 Axes>"
      ]
     },
     "metadata": {},
     "output_type": "display_data"
    },
    {
     "name": "stdout",
     "output_type": "stream",
     "text": [
      "Total variance: 1.027\n",
      "Sum of eigenvalues: 1.033\n"
     ]
    }
   ],
   "source": [
    "plt.figure(figsize=(4,2))\n",
    "plt.title ('PCA scree plot')\n",
    "plt.bar(numpy.arange(d),L)\n",
    "plt.xticks(range(d),labels=['PC%d'%i for i in range(d)])\n",
    "plt.show()\n",
    "\n",
    "print('Total variance: %.3f'%stot)\n",
    "print('Sum of eigenvalues: %.3f'%L.sum())"
   ]
  },
  {
   "cell_type": "markdown",
   "metadata": {},
   "source": [
    "We observe that the first principal component captures most of the variance in the data. This suggests that one or a few strongly covariate features capture most of the variations in the data."
   ]
  },
  {
   "cell_type": "markdown",
   "metadata": {},
   "source": [
    "### Understanding the First Principal Component\n",
    "\n",
    "We now would like to gain understanding of this highly explanatory first principal component, specifically, to which input features this component responds. For this, we recall that the projection of data on a principal component has the dot-product form\n",
    "\n",
    "$$\n",
    "z = \\boldsymbol{u}^\\top \\boldsymbol{x} = u_1 x_1 + u_2 x_2 + \\dots + u_d x_d\n",
    "$$\n",
    "\n",
    "where in our case, $\\boldsymbol{u}$ is the principal component stored in our column vector ``U[:,0]``.\n",
    "\n",
    "**Task: Write code that displays this projection operation instantiated to our particular problem formulation and PCA model.**"
   ]
  },
  {
   "cell_type": "code",
   "execution_count": 26,
   "metadata": {},
   "outputs": [
    {
     "name": "stdout",
     "output_type": "stream",
     "text": [
      "z = -0.11*sepal length (cm) + 0.06*sepal width (cm) + -0.56*petal length (cm) + -0.82*petal width (cm)\n"
     ]
    }
   ],
   "source": [
    "# ------------------------------------------\n",
    "# TODO: Replace by your code\n",
    "def printformula(U, feature_names):\n",
    "    pc1 = U[:, 0] #extracting first principal component\n",
    "    formula = \"z = \" + \" + \".join(f\"{round(pc1[i], 2)}*{feature_names[i]}\" for i in range(len(feature_names)))\n",
    "    \n",
    "    print(formula)\n",
    "\n",
    "printformula(U, feature_names)\n",
    "# ------------------------------------------\n",
    "#import solution\n",
    "#solution.printformula(U,feature_names)\n",
    "# ------------------------------------------"
   ]
  },
  {
   "cell_type": "markdown",
   "metadata": {},
   "source": [
    "As can be observed from the formula above, the first principal component responds mostly to a combination of petal length and petal width. It is on the other hand rather insensitive to sepal-related features."
   ]
  },
  {
   "cell_type": "markdown",
   "metadata": {},
   "source": [
    "### Understanding the First Principal Component\n",
    "\n",
    "We now would like to get understanding of the data projected on this principal component. The main advantage of looking at the PCA space instead of the feature space is that its dimensionality has been reduced, thereby allowing for using tools such as simple histograms without performing a priori feature selection. The following code projects our data on the first principal component:"
   ]
  },
  {
   "cell_type": "code",
   "execution_count": 27,
   "metadata": {},
   "outputs": [],
   "source": [
    "Z = X.dot(U[:,0])"
   ]
  },
  {
   "cell_type": "markdown",
   "metadata": {},
   "source": [
    "**Task: Write code that visualizes the projected data in the form of a histogram. Specifically, your visualization should split data according to the meta-data (here, the distinct plant species), and produce for each of them a distinct histogram with a specific color.**"
   ]
  },
  {
   "cell_type": "code",
   "execution_count": 28,
   "metadata": {},
   "outputs": [
    {
     "data": {
      "image/png": "[encoded data removed]",
      "text/plain": [
       "<Figure size 800x500 with 1 Axes>"
      ]
     },
     "metadata": {},
     "output_type": "display_data"
    }
   ],
   "source": [
    "# TODO: Replace by your code\n",
    "import matplotlib.pyplot as plt\n",
    "\n",
    "def PCAplot(Z, T, target_names):\n",
    "    colors = ['blue', 'green', 'red']\n",
    "    \n",
    "    # histogram plot\n",
    "    plt.figure(figsize=(8, 5))\n",
    "    for i, target in enumerate(np.unique(T)):\n",
    "        plt.hist(Z[T == target], bins=15, color=colors[i], alpha=0.5, label=target_names[target])\n",
    "    plt.title(\"Projected Data on First Principal Component\")\n",
    "    plt.xlabel(\"Projection onto PC1\")\n",
    "    plt.ylabel(\"Frequency\")\n",
    "    plt.legend()\n",
    "    plt.show()\n",
    "\n",
    "Z = X.dot(U[:, 0])\n",
    "PCAplot(Z, T, target_names)\n",
    "# ------------------------------------------\n",
    "#import solution\n",
    "#solution.PCAplot(Z,T,target_names)"
   ]
  },
  {
   "cell_type": "markdown",
   "metadata": {},
   "source": [
    "From this analysis, we can observe that the principal component represent meaningful variations in the data, in particular, species appear to be separable. The Iris setosa is separated from the other two species by a large margin, whereas the two other species are also separated to a certain extent, but not fully."
   ]
  }
 ],
 "metadata": {
  "kernelspec": {
   "display_name": "Python 3 (ipykernel)",
   "language": "python",
   "name": "python3"
  },
  "language_info": {
   "codemirror_mode": {
    "name": "ipython",
    "version": 3
   },
   "file_extension": ".py",
   "mimetype": "text/x-python",
   "name": "python",
   "nbconvert_exporter": "python",
   "pygments_lexer": "ipython3",
   "version": "3.11.7"
  }
 },
 "nbformat": 4,
 "nbformat_minor": 4
}
